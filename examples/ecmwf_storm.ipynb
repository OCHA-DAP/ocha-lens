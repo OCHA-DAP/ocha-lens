{
 "cells": [
  {
   "cell_type": "markdown",
   "id": "0b91cd59",
   "metadata": {},
   "source": [
    "# ECMWF Storm Data Processing\n",
    "\n",
    "This notebook demos how to use the functions in `src/ocha_lens/datasources/ecmwf_storm.py`"
   ]
  },
  {
   "cell_type": "code",
   "execution_count": 1,
   "id": "f441845c",
   "metadata": {},
   "outputs": [],
   "source": [
    "from datetime import datetime\n",
    "\n",
    "import geopandas as gpd\n",
    "from shapely.geometry import LineString\n",
    "\n",
    "import ocha_lens as lens"
   ]
  },
  {
   "cell_type": "markdown",
   "id": "21b538a9",
   "metadata": {},
   "source": [
    "Access the `cxml` datasets saved to Azure blob and store as a dataframe. We'll get the forecasts in March 2019 (cyclone Idai)."
   ]
  },
  {
   "cell_type": "code",
   "execution_count": 3,
   "id": "41332dd2",
   "metadata": {},
   "outputs": [
    {
     "name": "stderr",
     "output_type": "stream",
     "text": [
      "Processing for 2019-03-01 00:00:00...\n",
      "Processing for 2019-03-01 12:00:00...\n",
      "Processing for 2019-03-02 00:00:00...\n",
      "Processing for 2019-03-02 12:00:00...\n",
      "Processing for 2019-03-03 00:00:00...\n",
      "Processing for 2019-03-03 12:00:00...\n",
      "Processing for 2019-03-04 00:00:00...\n",
      "Processing for 2019-03-04 12:00:00...\n",
      "Processing for 2019-03-05 00:00:00...\n",
      "Processing for 2019-03-05 12:00:00...\n",
      "Processing for 2019-03-06 00:00:00...\n",
      "Processing for 2019-03-06 12:00:00...\n",
      "Processing for 2019-03-07 00:00:00...\n",
      "Processing for 2019-03-07 12:00:00...\n",
      "Processing for 2019-03-08 00:00:00...\n",
      "Processing for 2019-03-08 12:00:00...\n",
      "Processing for 2019-03-09 00:00:00...\n",
      "Processing for 2019-03-09 12:00:00...\n",
      "Processing for 2019-03-10 00:00:00...\n",
      "Processing for 2019-03-10 12:00:00...\n",
      "Processing for 2019-03-11 00:00:00...\n",
      "Processing for 2019-03-11 12:00:00...\n",
      "Processing for 2019-03-12 00:00:00...\n",
      "Processing for 2019-03-12 12:00:00...\n",
      "Processing for 2019-03-13 00:00:00...\n",
      "Processing for 2019-03-13 12:00:00...\n",
      "Processing for 2019-03-14 00:00:00...\n",
      "Processing for 2019-03-14 12:00:00...\n",
      "Processing for 2019-03-15 00:00:00...\n",
      "Processing for 2019-03-15 12:00:00...\n",
      "Processing for 2019-03-16 00:00:00...\n",
      "Processing for 2019-03-16 12:00:00...\n",
      "Processing for 2019-03-17 00:00:00...\n",
      "Processing for 2019-03-17 12:00:00...\n",
      "Processing for 2019-03-18 00:00:00...\n",
      "Processing for 2019-03-18 12:00:00...\n",
      "Processing for 2019-03-19 00:00:00...\n",
      "Processing for 2019-03-19 12:00:00...\n",
      "Processing for 2019-03-20 00:00:00...\n",
      "Processing for 2019-03-20 12:00:00...\n",
      "Processing for 2019-03-21 00:00:00...\n",
      "Processing for 2019-03-21 12:00:00...\n",
      "Processing for 2019-03-22 00:00:00...\n",
      "Processing for 2019-03-22 12:00:00...\n",
      "Processing for 2019-03-23 00:00:00...\n",
      "Processing for 2019-03-23 12:00:00...\n",
      "Processing for 2019-03-24 00:00:00...\n",
      "Processing for 2019-03-24 12:00:00...\n",
      "Processing for 2019-03-25 00:00:00...\n"
     ]
    }
   ],
   "source": [
    "df = lens.ecmwf_storm.load_hindcasts(\n",
    "    start_date=datetime(2019, 3, 1),\n",
    "    end_date=datetime(2019, 3, 25),\n",
    "    use_cache=False,\n",
    "    skip_if_missing=False,\n",
    "    stage=\"local\",\n",
    ")"
   ]
  },
  {
   "cell_type": "markdown",
   "id": "f1a0a543",
   "metadata": {},
   "source": [
    "Process this dataframe into the `storms` and `forecast_track` standards"
   ]
  },
  {
   "cell_type": "code",
   "execution_count": 4,
   "id": "b0218563",
   "metadata": {},
   "outputs": [],
   "source": [
    "df_storms, gdf_forecasts = lens.ecmwf_storm.get_storms_and_tracks(df)"
   ]
  },
  {
   "cell_type": "code",
   "execution_count": 7,
   "id": "a3830455",
   "metadata": {},
   "outputs": [
    {
     "data": {
      "text/html": [
       "<div>\n",
       "<style scoped>\n",
       "    .dataframe tbody tr th:only-of-type {\n",
       "        vertical-align: middle;\n",
       "    }\n",
       "\n",
       "    .dataframe tbody tr th {\n",
       "        vertical-align: top;\n",
       "    }\n",
       "\n",
       "    .dataframe thead th {\n",
       "        text-align: right;\n",
       "    }\n",
       "</style>\n",
       "<table border=\"1\" class=\"dataframe\">\n",
       "  <thead>\n",
       "    <tr style=\"text-align: right;\">\n",
       "      <th></th>\n",
       "      <th>name</th>\n",
       "      <th>number</th>\n",
       "      <th>storm_id</th>\n",
       "      <th>provider</th>\n",
       "      <th>season</th>\n",
       "      <th>basin</th>\n",
       "    </tr>\n",
       "  </thead>\n",
       "  <tbody>\n",
       "    <tr>\n",
       "      <th>72</th>\n",
       "      <td>Veronica</td>\n",
       "      <td>21</td>\n",
       "      <td>Veronica_Southwest Pacific_2019</td>\n",
       "      <td>ecmf</td>\n",
       "      <td>2019</td>\n",
       "      <td>Southwest Pacific</td>\n",
       "    </tr>\n",
       "    <tr>\n",
       "      <th>71</th>\n",
       "      <td>Joaninha</td>\n",
       "      <td>13</td>\n",
       "      <td>Joaninha_Southwest Pacific_2019</td>\n",
       "      <td>ecmf</td>\n",
       "      <td>2019</td>\n",
       "      <td>Southwest Pacific</td>\n",
       "    </tr>\n",
       "    <tr>\n",
       "      <th>65</th>\n",
       "      <td>Trevor</td>\n",
       "      <td>20</td>\n",
       "      <td>Trevor_Southwest Pacific_2019</td>\n",
       "      <td>ecmf</td>\n",
       "      <td>2019</td>\n",
       "      <td>Southwest Pacific</td>\n",
       "    </tr>\n",
       "  </tbody>\n",
       "</table>\n",
       "</div>"
      ],
      "text/plain": [
       "        name number                         storm_id provider  season  \\\n",
       "72  Veronica     21  Veronica_Southwest Pacific_2019     ecmf    2019   \n",
       "71  Joaninha     13  Joaninha_Southwest Pacific_2019     ecmf    2019   \n",
       "65    Trevor     20    Trevor_Southwest Pacific_2019     ecmf    2019   \n",
       "\n",
       "                basin  \n",
       "72  Southwest Pacific  \n",
       "71  Southwest Pacific  \n",
       "65  Southwest Pacific  "
      ]
     },
     "execution_count": 7,
     "metadata": {},
     "output_type": "execute_result"
    }
   ],
   "source": [
    "df_storms.head(3)"
   ]
  },
  {
   "cell_type": "code",
   "execution_count": 8,
   "id": "8901dc2c",
   "metadata": {},
   "outputs": [
    {
     "data": {
      "text/html": [
       "<div>\n",
       "<style scoped>\n",
       "    .dataframe tbody tr th:only-of-type {\n",
       "        vertical-align: middle;\n",
       "    }\n",
       "\n",
       "    .dataframe tbody tr th {\n",
       "        vertical-align: top;\n",
       "    }\n",
       "\n",
       "    .dataframe thead th {\n",
       "        text-align: right;\n",
       "    }\n",
       "</style>\n",
       "<table border=\"1\" class=\"dataframe\">\n",
       "  <thead>\n",
       "    <tr style=\"text-align: right;\">\n",
       "      <th></th>\n",
       "      <th>issued_time</th>\n",
       "      <th>id</th>\n",
       "      <th>basin</th>\n",
       "      <th>leadtime</th>\n",
       "      <th>valid_time</th>\n",
       "      <th>pressure</th>\n",
       "      <th>wind_speed</th>\n",
       "      <th>season</th>\n",
       "      <th>storm_id</th>\n",
       "      <th>point_id</th>\n",
       "      <th>geometry</th>\n",
       "    </tr>\n",
       "  </thead>\n",
       "  <tbody>\n",
       "    <tr>\n",
       "      <th>0</th>\n",
       "      <td>2019-03-01 00:00:00+00:00</td>\n",
       "      <td>2019030100_252S_1781W</td>\n",
       "      <td>Southwest Pacific</td>\n",
       "      <td>0</td>\n",
       "      <td>2019-03-01 00:00:00+00:00</td>\n",
       "      <td>962</td>\n",
       "      <td>39.1</td>\n",
       "      <td>2019.0</td>\n",
       "      <td>Pola_Southwest Pacific_2019</td>\n",
       "      <td>0efde7f6-f9df-4b14-a0a7-6800b228317a</td>\n",
       "      <td>POINT (-178.5 -26.3)</td>\n",
       "    </tr>\n",
       "    <tr>\n",
       "      <th>1</th>\n",
       "      <td>2019-03-01 00:00:00+00:00</td>\n",
       "      <td>2019030100_252S_1781W</td>\n",
       "      <td>Southwest Pacific</td>\n",
       "      <td>6</td>\n",
       "      <td>2019-03-01 06:00:00+00:00</td>\n",
       "      <td>973</td>\n",
       "      <td>29.8</td>\n",
       "      <td>2019.0</td>\n",
       "      <td>Pola_Southwest Pacific_2019</td>\n",
       "      <td>3dbdf349-f810-4736-9661-cc0d2936e792</td>\n",
       "      <td>POINT (-178.3 -27.2)</td>\n",
       "    </tr>\n",
       "    <tr>\n",
       "      <th>2</th>\n",
       "      <td>2019-03-01 00:00:00+00:00</td>\n",
       "      <td>2019030100_252S_1781W</td>\n",
       "      <td>Southwest Pacific</td>\n",
       "      <td>12</td>\n",
       "      <td>2019-03-01 12:00:00+00:00</td>\n",
       "      <td>980</td>\n",
       "      <td>30.9</td>\n",
       "      <td>2019.0</td>\n",
       "      <td>Pola_Southwest Pacific_2019</td>\n",
       "      <td>cf856601-8776-42ff-8134-481fb341dd87</td>\n",
       "      <td>POINT (-177.9 -28)</td>\n",
       "    </tr>\n",
       "  </tbody>\n",
       "</table>\n",
       "</div>"
      ],
      "text/plain": [
       "                issued_time                     id              basin  \\\n",
       "0 2019-03-01 00:00:00+00:00  2019030100_252S_1781W  Southwest Pacific   \n",
       "1 2019-03-01 00:00:00+00:00  2019030100_252S_1781W  Southwest Pacific   \n",
       "2 2019-03-01 00:00:00+00:00  2019030100_252S_1781W  Southwest Pacific   \n",
       "\n",
       "   leadtime                valid_time  pressure  wind_speed  season  \\\n",
       "0         0 2019-03-01 00:00:00+00:00       962        39.1  2019.0   \n",
       "1         6 2019-03-01 06:00:00+00:00       973        29.8  2019.0   \n",
       "2        12 2019-03-01 12:00:00+00:00       980        30.9  2019.0   \n",
       "\n",
       "                      storm_id                              point_id  \\\n",
       "0  Pola_Southwest Pacific_2019  0efde7f6-f9df-4b14-a0a7-6800b228317a   \n",
       "1  Pola_Southwest Pacific_2019  3dbdf349-f810-4736-9661-cc0d2936e792   \n",
       "2  Pola_Southwest Pacific_2019  cf856601-8776-42ff-8134-481fb341dd87   \n",
       "\n",
       "               geometry  \n",
       "0  POINT (-178.5 -26.3)  \n",
       "1  POINT (-178.3 -27.2)  \n",
       "2    POINT (-177.9 -28)  "
      ]
     },
     "execution_count": 8,
     "metadata": {},
     "output_type": "execute_result"
    }
   ],
   "source": [
    "gdf_forecasts.head(3)"
   ]
  },
  {
   "cell_type": "markdown",
   "id": "eef97f4a",
   "metadata": {},
   "source": [
    "A very basic plot of the forecast tracks that we've defined as a storm."
   ]
  },
  {
   "cell_type": "code",
   "execution_count": 9,
   "id": "122a9a7a",
   "metadata": {},
   "outputs": [
    {
     "data": {
      "text/plain": [
       "<Axes: >"
      ]
     },
     "execution_count": 9,
     "metadata": {},
     "output_type": "execute_result"
    },
    {
     "data": {
      "image/png": "[encoded data removed]",
      "text/plain": [
       "<Figure size 1000x800 with 1 Axes>"
      ]
     },
     "metadata": {},
     "output_type": "display_data"
    }
   ],
   "source": [
    "gdf_forecasts.plot(\n",
    "    column=\"storm_id\",\n",
    "    markersize=df[\"wind_speed\"] * 3,\n",
    "    legend=False,\n",
    "    figsize=(10, 8),\n",
    "    alpha=0.2,\n",
    ")"
   ]
  },
  {
   "cell_type": "markdown",
   "id": "84e9fc4e",
   "metadata": {},
   "source": [
    "And do a simple transformation of all points into tracks. We can see the IDs are unique as we'd expect here..."
   ]
  },
  {
   "cell_type": "code",
   "execution_count": 10,
   "id": "bf3c0201",
   "metadata": {},
   "outputs": [
    {
     "name": "stderr",
     "output_type": "stream",
     "text": [
      "/var/folders/rv/xmclt0vn5y7cqt46s5xq3h080000gn/T/ipykernel_94539/1925757945.py:3: DeprecationWarning: DataFrameGroupBy.apply operated on the grouping columns. This behavior is deprecated, and in a future version of pandas the grouping columns will be excluded from the operation. Either pass `include_groups=False` to exclude the groupings or explicitly select the grouping columns after groupby to silence this warning.\n",
      "  .apply(lambda x: LineString([(pt.x, pt.y) for pt in x.geometry]))\n"
     ]
    },
    {
     "data": {
      "text/plain": [
       "<Axes: >"
      ]
     },
     "execution_count": 10,
     "metadata": {},
     "output_type": "execute_result"
    },
    {
     "data": {
      "image/png": "[encoded data removed]",
      "text/plain": [
       "<Figure size 1000x1000 with 1 Axes>"
      ]
     },
     "metadata": {},
     "output_type": "display_data"
    }
   ],
   "source": [
    "tracks = (\n",
    "    gdf_forecasts.sort_values(\"valid_time\")\n",
    "    .groupby([\"storm_id\", \"id\"])\n",
    "    .apply(lambda x: LineString([(pt.x, pt.y) for pt in x.geometry]))\n",
    "    .reset_index(name=\"geometry\")\n",
    ")\n",
    "\n",
    "\n",
    "tracks_gdf = gpd.GeoDataFrame(tracks, crs=gdf_forecasts.crs)\n",
    "track_attrs = gdf_forecasts.groupby(\"storm_id\").first().reset_index()\n",
    "tracks_gdf = tracks_gdf.merge(\n",
    "    track_attrs[[\"storm_id\", \"basin\"]], on=\"storm_id\"\n",
    ")\n",
    "\n",
    "tracks_gdf.plot(\n",
    "    column=\"storm_id\",\n",
    "    legend=False,\n",
    "    alpha=0.7,\n",
    "    figsize=(10, 10),\n",
    ")"
   ]
  },
  {
   "cell_type": "code",
   "execution_count": 12,
   "id": "a12638bb",
   "metadata": {},
   "outputs": [
    {
     "name": "stderr",
     "output_type": "stream",
     "text": [
      "/var/folders/rv/xmclt0vn5y7cqt46s5xq3h080000gn/T/ipykernel_94539/1920231227.py:1: UserWarning: Column names longer than 10 characters will be truncated when saved to ESRI Shapefile.\n",
      "  gdf_forecasts.to_file(\"test_2019.shp\")\n",
      "/Users/hannahker/Desktop/ocha-lens/venv/lib/python3.12/site-packages/pyogrio/raw.py:723: RuntimeWarning: Normalized/laundered field name: 'issued_time' to 'issued_tim'\n",
      "  ogr_write(\n",
      "/Users/hannahker/Desktop/ocha-lens/venv/lib/python3.12/site-packages/pyogrio/raw.py:723: RuntimeWarning: Field issued_tim create as date field, though DateTime requested.\n",
      "  ogr_write(\n",
      "/Users/hannahker/Desktop/ocha-lens/venv/lib/python3.12/site-packages/pyogrio/raw.py:723: RuntimeWarning: Field valid_time create as date field, though DateTime requested.\n",
      "  ogr_write(\n"
     ]
    }
   ],
   "source": [
    "gdf_forecasts.to_file(\"test_2019.shp\")"
   ]
  }
 ],
 "metadata": {
  "kernelspec": {
   "display_name": "venv",
   "language": "python",
   "name": "python3"
  },
  "language_info": {
   "codemirror_mode": {
    "name": "ipython",
    "version": 3
   },
   "file_extension": ".py",
   "mimetype": "text/x-python",
   "name": "python",
   "nbconvert_exporter": "python",
   "pygments_lexer": "ipython3",
   "version": "3.12.10"
  }
 },
 "nbformat": 4,
 "nbformat_minor": 5
}
