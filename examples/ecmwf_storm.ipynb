{
 "cells": [
  {
   "cell_type": "markdown",
   "id": "0b91cd59",
   "metadata": {},
   "source": [
    "# ECMWF Storm Data Processing\n",
    "\n",
    "This notebook demos how to use the functions in `src/ocha_lens/datasources/ecmwf_storm.py`"
   ]
  },
  {
   "cell_type": "code",
   "execution_count": 1,
   "id": "f441845c",
   "metadata": {},
   "outputs": [],
   "source": [
    "from datetime import datetime\n",
    "\n",
    "import geopandas as gpd\n",
    "from shapely.geometry import LineString\n",
    "\n",
    "import ocha_lens as lens"
   ]
  },
  {
   "cell_type": "markdown",
   "id": "21b538a9",
   "metadata": {},
   "source": [
    "Access the `cxml` datasets saved to Azure blob and store as a dataframe. We'll get the forecasts in March 2019 (cyclone Idai)."
   ]
  },
  {
   "cell_type": "code",
   "execution_count": 2,
   "id": "41332dd2",
   "metadata": {},
   "outputs": [
    {
     "name": "stderr",
     "output_type": "stream",
     "text": [
      "Processing for 2024-11-01 00:00:00...\n",
      "Processing for 2024-11-01 12:00:00...\n",
      "Processing for 2024-11-02 00:00:00...\n",
      "Processing for 2024-11-02 12:00:00...\n",
      "Processing for 2024-11-03 00:00:00...\n",
      "Processing for 2024-11-03 12:00:00...\n",
      "Processing for 2024-11-04 00:00:00...\n",
      "Processing for 2024-11-04 12:00:00...\n",
      "Processing for 2024-11-05 00:00:00...\n"
     ]
    }
   ],
   "source": [
    "df = lens.ecmwf_storm.load_hindcasts(\n",
    "    start_date=datetime(2024, 11, 1),\n",
    "    end_date=datetime(2024, 11, 5),\n",
    "    use_cache=False,\n",
    "    skip_if_missing=False,\n",
    "    stage=\"local\",\n",
    ")"
   ]
  },
  {
   "cell_type": "markdown",
   "id": "f1a0a543",
   "metadata": {},
   "source": [
    "Process this dataframe into the `storms` and `forecast_track` standards"
   ]
  },
  {
   "cell_type": "code",
   "execution_count": 3,
   "id": "b0218563",
   "metadata": {},
   "outputs": [],
   "source": [
    "df_storms, gdf_forecasts = lens.ecmwf_storm.get_storms_and_tracks(df)"
   ]
  },
  {
   "cell_type": "code",
   "execution_count": 4,
   "id": "a3830455",
   "metadata": {},
   "outputs": [
    {
     "data": {
      "text/html": [
       "<div>\n",
       "<style scoped>\n",
       "    .dataframe tbody tr th:only-of-type {\n",
       "        vertical-align: middle;\n",
       "    }\n",
       "\n",
       "    .dataframe tbody tr th {\n",
       "        vertical-align: top;\n",
       "    }\n",
       "\n",
       "    .dataframe thead th {\n",
       "        text-align: right;\n",
       "    }\n",
       "</style>\n",
       "<table border=\"1\" class=\"dataframe\">\n",
       "  <thead>\n",
       "    <tr style=\"text-align: right;\">\n",
       "      <th></th>\n",
       "      <th>name</th>\n",
       "      <th>number</th>\n",
       "      <th>storm_id</th>\n",
       "      <th>provider</th>\n",
       "      <th>season</th>\n",
       "      <th>basin</th>\n",
       "    </tr>\n",
       "  </thead>\n",
       "  <tbody>\n",
       "    <tr>\n",
       "      <th>8</th>\n",
       "      <td>RAFAEL</td>\n",
       "      <td>18L</td>\n",
       "      <td>RAFAEL_North Atlantic_2024</td>\n",
       "      <td>ecmf</td>\n",
       "      <td>2024</td>\n",
       "      <td>North Atlantic</td>\n",
       "    </tr>\n",
       "    <tr>\n",
       "      <th>9</th>\n",
       "      <td>YINXING</td>\n",
       "      <td>28W</td>\n",
       "      <td>YINXING_Northwest Pacific_2024</td>\n",
       "      <td>ecmf</td>\n",
       "      <td>2024</td>\n",
       "      <td>Northwest Pacific</td>\n",
       "    </tr>\n",
       "    <tr>\n",
       "      <th>6</th>\n",
       "      <td>PATTY</td>\n",
       "      <td>17L</td>\n",
       "      <td>PATTY_North Atlantic_2024</td>\n",
       "      <td>ecmf</td>\n",
       "      <td>2024</td>\n",
       "      <td>North Atlantic</td>\n",
       "    </tr>\n",
       "  </tbody>\n",
       "</table>\n",
       "</div>"
      ],
      "text/plain": [
       "      name number                        storm_id provider  season  \\\n",
       "8   RAFAEL    18L      RAFAEL_North Atlantic_2024     ecmf    2024   \n",
       "9  YINXING    28W  YINXING_Northwest Pacific_2024     ecmf    2024   \n",
       "6    PATTY    17L       PATTY_North Atlantic_2024     ecmf    2024   \n",
       "\n",
       "               basin  \n",
       "8     North Atlantic  \n",
       "9  Northwest Pacific  \n",
       "6     North Atlantic  "
      ]
     },
     "execution_count": 4,
     "metadata": {},
     "output_type": "execute_result"
    }
   ],
   "source": [
    "df_storms.head(3)"
   ]
  },
  {
   "cell_type": "code",
   "execution_count": 5,
   "id": "8901dc2c",
   "metadata": {},
   "outputs": [
    {
     "data": {
      "text/html": [
       "<div>\n",
       "<style scoped>\n",
       "    .dataframe tbody tr th:only-of-type {\n",
       "        vertical-align: middle;\n",
       "    }\n",
       "\n",
       "    .dataframe tbody tr th {\n",
       "        vertical-align: top;\n",
       "    }\n",
       "\n",
       "    .dataframe thead th {\n",
       "        text-align: right;\n",
       "    }\n",
       "</style>\n",
       "<table border=\"1\" class=\"dataframe\">\n",
       "  <thead>\n",
       "    <tr style=\"text-align: right;\">\n",
       "      <th></th>\n",
       "      <th>issued_time</th>\n",
       "      <th>id</th>\n",
       "      <th>basin</th>\n",
       "      <th>leadtime</th>\n",
       "      <th>valid_time</th>\n",
       "      <th>pressure</th>\n",
       "      <th>wind_speed</th>\n",
       "      <th>season</th>\n",
       "      <th>storm_id</th>\n",
       "      <th>point_id</th>\n",
       "      <th>geometry</th>\n",
       "    </tr>\n",
       "  </thead>\n",
       "  <tbody>\n",
       "    <tr>\n",
       "      <th>0</th>\n",
       "      <td>2024-11-01</td>\n",
       "      <td>2024110100_264N_1204E</td>\n",
       "      <td>Northwest Pacific</td>\n",
       "      <td>0</td>\n",
       "      <td>2024-11-01 00:00:00+00:00</td>\n",
       "      <td>991.0</td>\n",
       "      <td>22.1</td>\n",
       "      <td>2024.0</td>\n",
       "      <td>KONG-REY_Northwest Pacific_2024</td>\n",
       "      <td>f018d5d1-857f-4e22-b050-2359dc7fb1e9</td>\n",
       "      <td>POINT (120.5 26.4)</td>\n",
       "    </tr>\n",
       "    <tr>\n",
       "      <th>1</th>\n",
       "      <td>2024-11-01</td>\n",
       "      <td>2024110100_264N_1204E</td>\n",
       "      <td>Northwest Pacific</td>\n",
       "      <td>6</td>\n",
       "      <td>2024-11-01 06:00:00+00:00</td>\n",
       "      <td>994.0</td>\n",
       "      <td>23.2</td>\n",
       "      <td>2024.0</td>\n",
       "      <td>KONG-REY_Northwest Pacific_2024</td>\n",
       "      <td>02a597dc-f21b-4bb8-bded-2e8da0e146ab</td>\n",
       "      <td>POINT (121.6 28)</td>\n",
       "    </tr>\n",
       "    <tr>\n",
       "      <th>2</th>\n",
       "      <td>2024-11-01</td>\n",
       "      <td>2024110100_264N_1204E</td>\n",
       "      <td>Northwest Pacific</td>\n",
       "      <td>12</td>\n",
       "      <td>2024-11-01 12:00:00+00:00</td>\n",
       "      <td>998.0</td>\n",
       "      <td>19.6</td>\n",
       "      <td>2024.0</td>\n",
       "      <td>KONG-REY_Northwest Pacific_2024</td>\n",
       "      <td>a8b6828f-a612-4b72-805c-65e370b59a2f</td>\n",
       "      <td>POINT (123.3 30.2)</td>\n",
       "    </tr>\n",
       "  </tbody>\n",
       "</table>\n",
       "</div>"
      ],
      "text/plain": [
       "  issued_time                     id              basin  leadtime  \\\n",
       "0  2024-11-01  2024110100_264N_1204E  Northwest Pacific         0   \n",
       "1  2024-11-01  2024110100_264N_1204E  Northwest Pacific         6   \n",
       "2  2024-11-01  2024110100_264N_1204E  Northwest Pacific        12   \n",
       "\n",
       "                 valid_time  pressure  wind_speed  season  \\\n",
       "0 2024-11-01 00:00:00+00:00     991.0        22.1  2024.0   \n",
       "1 2024-11-01 06:00:00+00:00     994.0        23.2  2024.0   \n",
       "2 2024-11-01 12:00:00+00:00     998.0        19.6  2024.0   \n",
       "\n",
       "                          storm_id                              point_id  \\\n",
       "0  KONG-REY_Northwest Pacific_2024  f018d5d1-857f-4e22-b050-2359dc7fb1e9   \n",
       "1  KONG-REY_Northwest Pacific_2024  02a597dc-f21b-4bb8-bded-2e8da0e146ab   \n",
       "2  KONG-REY_Northwest Pacific_2024  a8b6828f-a612-4b72-805c-65e370b59a2f   \n",
       "\n",
       "             geometry  \n",
       "0  POINT (120.5 26.4)  \n",
       "1    POINT (121.6 28)  \n",
       "2  POINT (123.3 30.2)  "
      ]
     },
     "execution_count": 5,
     "metadata": {},
     "output_type": "execute_result"
    }
   ],
   "source": [
    "gdf_forecasts.head(3)"
   ]
  },
  {
   "cell_type": "markdown",
   "id": "eef97f4a",
   "metadata": {},
   "source": [
    "A very basic plot of the forecast tracks that we've defined as a storm."
   ]
  },
  {
   "cell_type": "code",
   "execution_count": 6,
   "id": "122a9a7a",
   "metadata": {},
   "outputs": [
    {
     "data": {
      "text/plain": [
       "<Axes: >"
      ]
     },
     "execution_count": 6,
     "metadata": {},
     "output_type": "execute_result"
    },
    {
     "data": {
      "image/png": "[encoded data removed]",
      "text/plain": [
       "<Figure size 1000x800 with 1 Axes>"
      ]
     },
     "metadata": {},
     "output_type": "display_data"
    }
   ],
   "source": [
    "gdf_forecasts.plot(\n",
    "    column=\"storm_id\",\n",
    "    markersize=df[\"wind_speed\"] * 3,\n",
    "    legend=False,\n",
    "    figsize=(10, 8),\n",
    "    alpha=0.2,\n",
    ")"
   ]
  },
  {
   "cell_type": "markdown",
   "id": "84e9fc4e",
   "metadata": {},
   "source": [
    "And do a simple transformation of all points into tracks. We can see the IDs are unique as we'd expect here..."
   ]
  },
  {
   "cell_type": "code",
   "execution_count": 7,
   "id": "bf3c0201",
   "metadata": {},
   "outputs": [
    {
     "name": "stderr",
     "output_type": "stream",
     "text": [
      "/var/folders/rv/xmclt0vn5y7cqt46s5xq3h080000gn/T/ipykernel_95898/498382144.py:4: DeprecationWarning: DataFrameGroupBy.apply operated on the grouping columns. This behavior is deprecated, and in a future version of pandas the grouping columns will be excluded from the operation. Either pass `include_groups=False` to exclude the groupings or explicitly select the grouping columns after groupby to silence this warning.\n",
      "  .apply(lambda x: LineString([(pt.x, pt.y) for pt in x.geometry]))\n"
     ]
    },
    {
     "data": {
      "text/plain": [
       "<Axes: >"
      ]
     },
     "execution_count": 7,
     "metadata": {},
     "output_type": "execute_result"
    },
    {
     "data": {
      "image/png": "[encoded data removed]",
      "text/plain": [
       "<Figure size 1000x1000 with 1 Axes>"
      ]
     },
     "metadata": {},
     "output_type": "display_data"
    }
   ],
   "source": [
    "tracks = (\n",
    "    gdf_forecasts.sort_values(\"valid_time\")\n",
    "    .groupby([\"storm_id\", \"id\"])\n",
    "    .apply(lambda x: LineString([(pt.x, pt.y) for pt in x.geometry]))\n",
    "    .reset_index(name=\"geometry\")\n",
    ")\n",
    "\n",
    "\n",
    "tracks_gdf = gpd.GeoDataFrame(tracks, crs=gdf_forecasts.crs)\n",
    "track_attrs = gdf_forecasts.groupby(\"storm_id\").first().reset_index()\n",
    "tracks_gdf = tracks_gdf.merge(\n",
    "    track_attrs[[\"storm_id\", \"basin\"]], on=\"storm_id\"\n",
    ")\n",
    "\n",
    "tracks_gdf.plot(\n",
    "    column=\"storm_id\",\n",
    "    legend=False,\n",
    "    alpha=0.7,\n",
    "    figsize=(10, 10),\n",
    ")"
   ]
  }
 ],
 "metadata": {
  "kernelspec": {
   "display_name": "venv",
   "language": "python",
   "name": "python3"
  },
  "language_info": {
   "codemirror_mode": {
    "name": "ipython",
    "version": 3
   },
   "file_extension": ".py",
   "mimetype": "text/x-python",
   "name": "python",
   "nbconvert_exporter": "python",
   "pygments_lexer": "ipython3",
   "version": "3.12.10"
  }
 },
 "nbformat": 4,
 "nbformat_minor": 5
}
